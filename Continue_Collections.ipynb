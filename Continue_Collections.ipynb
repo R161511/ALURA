{
  "nbformat": 4,
  "nbformat_minor": 0,
  "metadata": {
    "colab": {
      "name": "Continue Collections",
      "provenance": [],
      "authorship_tag": "ABX9TyPJhasRHmjO4t1QjJgQ1/P5",
      "include_colab_link": true
    },
    "kernelspec": {
      "name": "python3",
      "display_name": "Python 3"
    }
  },
  "cells": [
    {
      "cell_type": "markdown",
      "metadata": {
        "id": "view-in-github",
        "colab_type": "text"
      },
      "source": [
        "<a href=\"https://colab.research.google.com/github/R161511/ALURA/blob/main/Continue_Collections.ipynb\" target=\"_parent\"><img src=\"https://colab.research.google.com/assets/colab-badge.svg\" alt=\"Open In Colab\"/></a>"
      ]
    },
    {
      "cell_type": "code",
      "metadata": {
        "id": "--PlJ98ZYdl8"
      },
      "source": [
        "usuarios_data_science = [15, 23, 43, 56]\n",
        "usuarios_manchine_learning = [13, 23, 56, 42]\n"
      ],
      "execution_count": 1,
      "outputs": []
    },
    {
      "cell_type": "code",
      "metadata": {
        "colab": {
          "base_uri": "https://localhost:8080/"
        },
        "id": "xvFxroETY8YV",
        "outputId": "a2da4f5a-eca3-4ce4-ea4a-ff52e787bf8a"
      },
      "source": [
        "assistiram = usuarios_data_science.copy()\n",
        "assistiram.extend(usuarios_manchine_learning)\n",
        "assistiram"
      ],
      "execution_count": 4,
      "outputs": [
        {
          "output_type": "execute_result",
          "data": {
            "text/plain": [
              "[15, 23, 43, 56, 13, 23, 56, 42]"
            ]
          },
          "metadata": {
            "tags": []
          },
          "execution_count": 4
        }
      ]
    },
    {
      "cell_type": "code",
      "metadata": {
        "colab": {
          "base_uri": "https://localhost:8080/"
        },
        "id": "sqapGsogZP-P",
        "outputId": "a235d48e-0b61-411b-c43e-73b2c09e251d"
      },
      "source": [
        "len(assistiram)"
      ],
      "execution_count": 5,
      "outputs": [
        {
          "output_type": "execute_result",
          "data": {
            "text/plain": [
              "8"
            ]
          },
          "metadata": {
            "tags": []
          },
          "execution_count": 5
        }
      ]
    },
    {
      "cell_type": "code",
      "metadata": {
        "colab": {
          "base_uri": "https://localhost:8080/"
        },
        "id": "bMjxhO1-Z6u9",
        "outputId": "8fff723c-2829-4d01-aa93-c04ffe173631"
      },
      "source": [
        "\n",
        "set(assistiram)"
      ],
      "execution_count": 6,
      "outputs": [
        {
          "output_type": "execute_result",
          "data": {
            "text/plain": [
              "{13, 15, 23, 42, 43, 56}"
            ]
          },
          "metadata": {
            "tags": []
          },
          "execution_count": 6
        }
      ]
    },
    {
      "cell_type": "code",
      "metadata": {
        "colab": {
          "base_uri": "https://localhost:8080/"
        },
        "id": "jRjtfel8aLe-",
        "outputId": "8358dc12-aab9-445d-fd7a-4f45e9641b9f"
      },
      "source": [
        "set([1,2,3,1])"
      ],
      "execution_count": 7,
      "outputs": [
        {
          "output_type": "execute_result",
          "data": {
            "text/plain": [
              "{1, 2, 3}"
            ]
          },
          "metadata": {
            "tags": []
          },
          "execution_count": 7
        }
      ]
    },
    {
      "cell_type": "code",
      "metadata": {
        "colab": {
          "base_uri": "https://localhost:8080/"
        },
        "id": "zir16C-Oaa4-",
        "outputId": "1f75d548-2bb2-4a64-c14f-0df3e830229e"
      },
      "source": [
        "{4,1,2,3,1}"
      ],
      "execution_count": 8,
      "outputs": [
        {
          "output_type": "execute_result",
          "data": {
            "text/plain": [
              "{1, 2, 3, 4}"
            ]
          },
          "metadata": {
            "tags": []
          },
          "execution_count": 8
        }
      ]
    },
    {
      "cell_type": "code",
      "metadata": {
        "colab": {
          "base_uri": "https://localhost:8080/"
        },
        "id": "Thz7X3tbafqm",
        "outputId": "ba2ab10d-6228-405f-8eac-7f83bdfa3e97"
      },
      "source": [
        "usuarios_manchine_learning[3]"
      ],
      "execution_count": 9,
      "outputs": [
        {
          "output_type": "execute_result",
          "data": {
            "text/plain": [
              "42"
            ]
          },
          "metadata": {
            "tags": []
          },
          "execution_count": 9
        }
      ]
    },
    {
      "cell_type": "code",
      "metadata": {
        "colab": {
          "base_uri": "https://localhost:8080/"
        },
        "id": "DAAa8j58a6t-",
        "outputId": "a55e8c8b-ee38-4596-dc72-5ac6abaed2a8"
      },
      "source": [
        "usuarios_manchine_learning"
      ],
      "execution_count": 10,
      "outputs": [
        {
          "output_type": "execute_result",
          "data": {
            "text/plain": [
              "[13, 23, 56, 42]"
            ]
          },
          "metadata": {
            "tags": []
          },
          "execution_count": 10
        }
      ]
    },
    {
      "cell_type": "code",
      "metadata": {
        "colab": {
          "base_uri": "https://localhost:8080/"
        },
        "id": "PmbwJYlDa9pF",
        "outputId": "4a7391b2-9f7d-4327-e06b-104f961e3703"
      },
      "source": [
        "for usuario in set(assistiram):\n",
        "  print(usuario)"
      ],
      "execution_count": 11,
      "outputs": [
        {
          "output_type": "stream",
          "text": [
            "42\n",
            "43\n",
            "13\n",
            "15\n",
            "23\n",
            "56\n"
          ],
          "name": "stdout"
        }
      ]
    },
    {
      "cell_type": "code",
      "metadata": {
        "id": "K9KYXTUibVNM"
      },
      "source": [
        "usuarios_data_science = {15, 23, 43, 56}\n",
        "usuarios_manchine_learning = {13, 23, 56, 42}"
      ],
      "execution_count": 12,
      "outputs": []
    },
    {
      "cell_type": "code",
      "metadata": {
        "colab": {
          "base_uri": "https://localhost:8080/"
        },
        "id": "7DdS3dNpbnRM",
        "outputId": "e92f99f1-b895-4bb4-ea72-f95a686200fa"
      },
      "source": [
        "usuarios_data_science | usuarios_manchine_learning"
      ],
      "execution_count": 13,
      "outputs": [
        {
          "output_type": "execute_result",
          "data": {
            "text/plain": [
              "{13, 15, 23, 42, 43, 56}"
            ]
          },
          "metadata": {
            "tags": []
          },
          "execution_count": 13
        }
      ]
    },
    {
      "cell_type": "code",
      "metadata": {
        "colab": {
          "base_uri": "https://localhost:8080/"
        },
        "id": "yUldobH7bsTU",
        "outputId": "8a7cee24-d720-4c30-83f1-120c5c2169ba"
      },
      "source": [
        "usuarios_data_science & usuarios_manchine_learning"
      ],
      "execution_count": 14,
      "outputs": [
        {
          "output_type": "execute_result",
          "data": {
            "text/plain": [
              "{23, 56}"
            ]
          },
          "metadata": {
            "tags": []
          },
          "execution_count": 14
        }
      ]
    },
    {
      "cell_type": "code",
      "metadata": {
        "colab": {
          "base_uri": "https://localhost:8080/"
        },
        "id": "qVi4ej6fcC8k",
        "outputId": "a9616e25-fc89-49c1-d014-94e759ee27c1"
      },
      "source": [
        "usuarios_data_science - usuarios_manchine_learning"
      ],
      "execution_count": 15,
      "outputs": [
        {
          "output_type": "execute_result",
          "data": {
            "text/plain": [
              "{15, 43}"
            ]
          },
          "metadata": {
            "tags": []
          },
          "execution_count": 15
        }
      ]
    },
    {
      "cell_type": "code",
      "metadata": {
        "colab": {
          "base_uri": "https://localhost:8080/"
        },
        "id": "mBoT3uuccqjs",
        "outputId": "0138476e-4969-4eef-9d95-b3eed042d0b0"
      },
      "source": [
        "usuarios = {1,5,76,34,52,13,17}\n",
        "len(usuarios)"
      ],
      "execution_count": 17,
      "outputs": [
        {
          "output_type": "execute_result",
          "data": {
            "text/plain": [
              "7"
            ]
          },
          "metadata": {
            "tags": []
          },
          "execution_count": 17
        }
      ]
    },
    {
      "cell_type": "code",
      "metadata": {
        "colab": {
          "base_uri": "https://localhost:8080/"
        },
        "id": "_9p3-XbvfL7K",
        "outputId": "d86bf8a7-7fcb-4ab7-ffff-9b981ca74c92"
      },
      "source": [
        "usuarios.add(13)\n",
        "len(usuarios)"
      ],
      "execution_count": 18,
      "outputs": [
        {
          "output_type": "execute_result",
          "data": {
            "text/plain": [
              "7"
            ]
          },
          "metadata": {
            "tags": []
          },
          "execution_count": 18
        }
      ]
    },
    {
      "cell_type": "code",
      "metadata": {
        "colab": {
          "base_uri": "https://localhost:8080/"
        },
        "id": "VdiKigrDfV3x",
        "outputId": "9e025bad-e8a7-4a42-c224-c2714d5d5609"
      },
      "source": [
        "usuarios.add(765)\n",
        "len(usuarios)"
      ],
      "execution_count": 20,
      "outputs": [
        {
          "output_type": "execute_result",
          "data": {
            "text/plain": [
              "8"
            ]
          },
          "metadata": {
            "tags": []
          },
          "execution_count": 20
        }
      ]
    },
    {
      "cell_type": "code",
      "metadata": {
        "colab": {
          "base_uri": "https://localhost:8080/"
        },
        "id": "6b-R4zXzfYy6",
        "outputId": "047c05c6-4092-4194-98e8-549fee8a39e3"
      },
      "source": [
        "type(usuarios)"
      ],
      "execution_count": 21,
      "outputs": [
        {
          "output_type": "execute_result",
          "data": {
            "text/plain": [
              "set"
            ]
          },
          "metadata": {
            "tags": []
          },
          "execution_count": 21
        }
      ]
    },
    {
      "cell_type": "code",
      "metadata": {
        "colab": {
          "base_uri": "https://localhost:8080/"
        },
        "id": "eD04dPVhfqNx",
        "outputId": "d128b0a8-a28a-46fd-81c9-7f8d6a11693b"
      },
      "source": [
        "meu_texto = 'Bem vindo meu nome é Rafael eu gosto de nomes e gosto mais ainda de Gatos'\n",
        "meu_texto.split()"
      ],
      "execution_count": 23,
      "outputs": [
        {
          "output_type": "execute_result",
          "data": {
            "text/plain": [
              "['Bem',\n",
              " 'vindo',\n",
              " 'meu',\n",
              " 'nome',\n",
              " 'é',\n",
              " 'Rafael',\n",
              " 'eu',\n",
              " 'gosto',\n",
              " 'de',\n",
              " 'nomes',\n",
              " 'e',\n",
              " 'gosto',\n",
              " 'mais',\n",
              " 'ainda',\n",
              " 'de',\n",
              " 'Gatos']"
            ]
          },
          "metadata": {
            "tags": []
          },
          "execution_count": 23
        }
      ]
    },
    {
      "cell_type": "code",
      "metadata": {
        "colab": {
          "base_uri": "https://localhost:8080/"
        },
        "id": "XWEUPAPAf9gp",
        "outputId": "3f43e8de-f17e-42db-86c7-aba585f5ccee"
      },
      "source": [
        "set(meu_texto.split())"
      ],
      "execution_count": 25,
      "outputs": [
        {
          "output_type": "execute_result",
          "data": {
            "text/plain": [
              "{'Bem',\n",
              " 'Gatos',\n",
              " 'Rafael',\n",
              " 'ainda',\n",
              " 'de',\n",
              " 'e',\n",
              " 'eu',\n",
              " 'gosto',\n",
              " 'mais',\n",
              " 'meu',\n",
              " 'nome',\n",
              " 'nomes',\n",
              " 'vindo',\n",
              " 'é'}"
            ]
          },
          "metadata": {
            "tags": []
          },
          "execution_count": 25
        }
      ]
    },
    {
      "cell_type": "code",
      "metadata": {
        "id": "1F15OpBZgKzY"
      },
      "source": [
        "aparicoes = {\n",
        "    \"Guilherme\" : 1,\n",
        "    \"cachorro\" : 2,\n",
        "    \"nome\" : 2, \n",
        "    \"vindo\" : 1\n",
        "}"
      ],
      "execution_count": 1,
      "outputs": []
    },
    {
      "cell_type": "code",
      "metadata": {
        "colab": {
          "base_uri": "https://localhost:8080/"
        },
        "id": "oPY9Qw_DTbls",
        "outputId": "c7804396-5b7a-4eda-9b51-4d849a2fa1eb"
      },
      "source": [
        "type(aparicoes)"
      ],
      "execution_count": 2,
      "outputs": [
        {
          "output_type": "execute_result",
          "data": {
            "text/plain": [
              "dict"
            ]
          },
          "metadata": {
            "tags": []
          },
          "execution_count": 2
        }
      ]
    },
    {
      "cell_type": "code",
      "metadata": {
        "colab": {
          "base_uri": "https://localhost:8080/"
        },
        "id": "40zmkIOsTfSd",
        "outputId": "9cceb6e2-9573-4899-d036-99a8796296a3"
      },
      "source": [
        "aparicoes[\"Guilherme\"]"
      ],
      "execution_count": 3,
      "outputs": [
        {
          "output_type": "execute_result",
          "data": {
            "text/plain": [
              "1"
            ]
          },
          "metadata": {
            "tags": []
          },
          "execution_count": 3
        }
      ]
    },
    {
      "cell_type": "code",
      "metadata": {
        "id": "1zwj1UkYTlW-"
      },
      "source": [
        "aparicoes[\"Gatos\"]"
      ],
      "execution_count": null,
      "outputs": []
    },
    {
      "cell_type": "code",
      "metadata": {
        "colab": {
          "base_uri": "https://localhost:8080/"
        },
        "id": "4Bxq7_AATpz1",
        "outputId": "258faf2d-046c-4570-f6f1-a89b08121b3c"
      },
      "source": [
        "aparicoes"
      ],
      "execution_count": 8,
      "outputs": [
        {
          "output_type": "execute_result",
          "data": {
            "text/plain": [
              "{'Guilherme': 1, 'cachorro': 2, 'nome': 2, 'vindo': 1}"
            ]
          },
          "metadata": {
            "tags": []
          },
          "execution_count": 8
        }
      ]
    },
    {
      "cell_type": "code",
      "metadata": {
        "colab": {
          "base_uri": "https://localhost:8080/"
        },
        "id": "syQ_IzVZVh27",
        "outputId": "c834c12c-d40a-4aaa-8267-7dbd06de2b9d"
      },
      "source": [
        "\"cachorro\" in aparicoes"
      ],
      "execution_count": 9,
      "outputs": [
        {
          "output_type": "execute_result",
          "data": {
            "text/plain": [
              "True"
            ]
          },
          "metadata": {
            "tags": []
          },
          "execution_count": 9
        }
      ]
    },
    {
      "cell_type": "code",
      "metadata": {
        "colab": {
          "base_uri": "https://localhost:8080/"
        },
        "id": "8RKsVphdVtU7",
        "outputId": "00586e69-51a3-4578-8e07-e0cdd98444ff"
      },
      "source": [
        "\"Gatos\" in aparicoes"
      ],
      "execution_count": 10,
      "outputs": [
        {
          "output_type": "execute_result",
          "data": {
            "text/plain": [
              "False"
            ]
          },
          "metadata": {
            "tags": []
          },
          "execution_count": 10
        }
      ]
    },
    {
      "cell_type": "code",
      "metadata": {
        "colab": {
          "base_uri": "https://localhost:8080/"
        },
        "id": "9X8imVGIVv4T",
        "outputId": "378a7254-3eab-4a74-bfd7-22fab1e5aeff"
      },
      "source": [
        "for elemento in aparicoes:\n",
        "  print(elemento)"
      ],
      "execution_count": 11,
      "outputs": [
        {
          "output_type": "stream",
          "text": [
            "Guilherme\n",
            "cachorro\n",
            "nome\n",
            "vindo\n"
          ],
          "name": "stdout"
        }
      ]
    },
    {
      "cell_type": "code",
      "metadata": {
        "colab": {
          "base_uri": "https://localhost:8080/"
        },
        "id": "RIAoZdXxV2vE",
        "outputId": "b0a92599-8f53-4a24-ca4e-73cc726f2df1"
      },
      "source": [
        "meu_texto = 'Bem vindo meu nome é Rafael eu gosto de nomes e gosto mais ainda de Gatos'\n",
        "meu_texto = meu_texto.lower()\n",
        "\n",
        "aparicoes = {}\n",
        "\n",
        "for palavra in meu_texto.split():\n",
        "  ate_agora = aparicoes.get(palavra, 0)\n",
        "  aparicoes[palavra] = ate_agora + 1\n",
        "\n",
        "aparicoes\n"
      ],
      "execution_count": 27,
      "outputs": [
        {
          "output_type": "execute_result",
          "data": {
            "text/plain": [
              "{'ainda': 1,\n",
              " 'bem': 1,\n",
              " 'de': 2,\n",
              " 'e': 1,\n",
              " 'eu': 1,\n",
              " 'gatos': 1,\n",
              " 'gosto': 2,\n",
              " 'mais': 1,\n",
              " 'meu': 1,\n",
              " 'nome': 1,\n",
              " 'nomes': 1,\n",
              " 'rafael': 1,\n",
              " 'vindo': 1,\n",
              " 'é': 1}"
            ]
          },
          "metadata": {
            "tags": []
          },
          "execution_count": 27
        }
      ]
    },
    {
      "cell_type": "code",
      "metadata": {
        "id": "gcuVgE4QjcDg"
      },
      "source": [
        ""
      ],
      "execution_count": null,
      "outputs": []
    }
  ]
}