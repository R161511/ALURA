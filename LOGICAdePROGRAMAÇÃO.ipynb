{
  "nbformat": 4,
  "nbformat_minor": 0,
  "metadata": {
    "colab": {
      "name": "LOGICAdePROGRAMAÇÃO.ipynb",
      "provenance": [],
      "authorship_tag": "ABX9TyMKaGqI8tZKCPa9tdogqYUn",
      "include_colab_link": true
    },
    "kernelspec": {
      "name": "python3",
      "display_name": "Python 3"
    }
  },
  "cells": [
    {
      "cell_type": "markdown",
      "metadata": {
        "id": "view-in-github",
        "colab_type": "text"
      },
      "source": [
        "<a href=\"https://colab.research.google.com/github/R161511/ALURA/blob/main/LOGICAdePROGRAMA%C3%87%C3%83O.ipynb\" target=\"_parent\"><img src=\"https://colab.research.google.com/assets/colab-badge.svg\" alt=\"Open In Colab\"/></a>"
      ]
    },
    {
      "cell_type": "markdown",
      "metadata": {
        "id": "vVU5S511FqNX"
      },
      "source": [
        "# Lógica de Programação com Python"
      ]
    },
    {
      "cell_type": "code",
      "metadata": {
        "id": "vGfrfWclFhwf",
        "outputId": "d562a158-8dfb-48dd-844a-ba8b87bc528f",
        "colab": {
          "base_uri": "https://localhost:8080/"
        }
      },
      "source": [
        "1+1"
      ],
      "execution_count": null,
      "outputs": [
        {
          "output_type": "execute_result",
          "data": {
            "text/plain": [
              "2"
            ]
          },
          "metadata": {
            "tags": []
          },
          "execution_count": 57
        }
      ]
    },
    {
      "cell_type": "code",
      "metadata": {
        "id": "70-k5VtXGIfm",
        "outputId": "23637511-4a79-4cb7-cf3b-610eb6890985",
        "colab": {
          "base_uri": "https://localhost:8080/",
          "height": 35
        }
      },
      "source": [
        "'Rafael'"
      ],
      "execution_count": null,
      "outputs": [
        {
          "output_type": "execute_result",
          "data": {
            "application/vnd.google.colaboratory.intrinsic+json": {
              "type": "string"
            },
            "text/plain": [
              "'Rafael'"
            ]
          },
          "metadata": {
            "tags": []
          },
          "execution_count": 58
        }
      ]
    },
    {
      "cell_type": "code",
      "metadata": {
        "id": "NIZkVTb_GKt3",
        "outputId": "25096ad0-3b32-43d2-bd17-ce201a181a1b",
        "colab": {
          "base_uri": "https://localhost:8080/",
          "height": 35
        }
      },
      "source": [
        "\"Rafael\""
      ],
      "execution_count": null,
      "outputs": [
        {
          "output_type": "execute_result",
          "data": {
            "application/vnd.google.colaboratory.intrinsic+json": {
              "type": "string"
            },
            "text/plain": [
              "'Rafael'"
            ]
          },
          "metadata": {
            "tags": []
          },
          "execution_count": 59
        }
      ]
    },
    {
      "cell_type": "code",
      "metadata": {
        "id": "LfgodyjfGOlY"
      },
      "source": [
        "nome = 'Rafael Reis'"
      ],
      "execution_count": null,
      "outputs": []
    },
    {
      "cell_type": "code",
      "metadata": {
        "id": "PWPu0uPBFxBB"
      },
      "source": [
        "nome = 'Rafael'"
      ],
      "execution_count": null,
      "outputs": []
    },
    {
      "cell_type": "code",
      "metadata": {
        "id": "6KnKF2j8FzqA",
        "outputId": "a2f62f56-b2af-433f-bd8c-567bc8ee1d37",
        "colab": {
          "base_uri": "https://localhost:8080/"
        }
      },
      "source": [
        "print(nome)"
      ],
      "execution_count": null,
      "outputs": [
        {
          "output_type": "stream",
          "text": [
            "Rafael\n"
          ],
          "name": "stdout"
        }
      ]
    },
    {
      "cell_type": "code",
      "metadata": {
        "id": "vCIH7apsF24b",
        "outputId": "306e3d13-112c-4466-d33a-ec1745e2e7bb",
        "colab": {
          "base_uri": "https://localhost:8080/"
        }
      },
      "source": [
        "print(nome)"
      ],
      "execution_count": null,
      "outputs": [
        {
          "output_type": "stream",
          "text": [
            "Rafael\n"
          ],
          "name": "stdout"
        }
      ]
    },
    {
      "cell_type": "code",
      "metadata": {
        "id": "cUT5ddJQF9Iy"
      },
      "source": [
        "nome = 'Rafael'"
      ],
      "execution_count": null,
      "outputs": []
    },
    {
      "cell_type": "code",
      "metadata": {
        "id": "avNxv9lwGAI7",
        "outputId": "417f0d1f-65e3-4e8d-92a7-315dfdfa5a2b",
        "colab": {
          "base_uri": "https://localhost:8080/"
        }
      },
      "source": [
        "print(nome)"
      ],
      "execution_count": null,
      "outputs": [
        {
          "output_type": "stream",
          "text": [
            "Rafael\n"
          ],
          "name": "stdout"
        }
      ]
    },
    {
      "cell_type": "code",
      "metadata": {
        "id": "GvlMR3o6GDsx"
      },
      "source": [
        "idade = 36"
      ],
      "execution_count": null,
      "outputs": []
    },
    {
      "cell_type": "code",
      "metadata": {
        "id": "uAFfSEw0GFxB",
        "outputId": "cd6aa803-0a18-48a4-8d62-5b3ca2701070",
        "colab": {
          "base_uri": "https://localhost:8080/"
        }
      },
      "source": [
        "print(f'Meu nome é {nome} e minha idade é {idade} anos.')"
      ],
      "execution_count": null,
      "outputs": [
        {
          "output_type": "stream",
          "text": [
            "Meu nome é Rafael e minha idade é 36 anos.\n"
          ],
          "name": "stdout"
        }
      ]
    },
    {
      "cell_type": "code",
      "metadata": {
        "id": "lPQmBj4LGL9K"
      },
      "source": [
        "idade = 35\n"
      ],
      "execution_count": null,
      "outputs": []
    },
    {
      "cell_type": "code",
      "metadata": {
        "id": "bQy0PLkZGjeB",
        "outputId": "5edc1d48-5f6f-424e-b34e-3ce6a6788edd",
        "colab": {
          "base_uri": "https://localhost:8080/"
        }
      },
      "source": [
        "print(f'Meu nome é {nome} e minha idade é {idade} anos')"
      ],
      "execution_count": null,
      "outputs": [
        {
          "output_type": "stream",
          "text": [
            "Meu nome é Rafael e minha idade é 35 anos\n"
          ],
          "name": "stdout"
        }
      ]
    },
    {
      "cell_type": "markdown",
      "metadata": {
        "id": "dOjixpD9MHX_"
      },
      "source": [
        "# Criando minha primeira função"
      ]
    },
    {
      "cell_type": "code",
      "metadata": {
        "id": "uEXLGe7tMNUl"
      },
      "source": [
        "def saudacao():\n",
        "  nome = input('Qual é o seu nome? ')\n",
        "  print(f'Hello {nome}')"
      ],
      "execution_count": null,
      "outputs": []
    },
    {
      "cell_type": "code",
      "metadata": {
        "id": "BGVXC6_2MwoR",
        "outputId": "2360f07c-9d5d-4c09-947f-5798d341187c",
        "colab": {
          "base_uri": "https://localhost:8080/"
        }
      },
      "source": [
        "saudacao()"
      ],
      "execution_count": null,
      "outputs": [
        {
          "output_type": "stream",
          "text": [
            "Qual é o seu nome? Luis\n",
            "Hello Luis\n"
          ],
          "name": "stdout"
        }
      ]
    },
    {
      "cell_type": "code",
      "metadata": {
        "id": "RA3aDA6MM3Ct"
      },
      "source": [
        "def nome_completo():\n",
        "  primeiro_nome = input('Qual seu primeiro nome? ')\n",
        "  sobrenome = input ('Qual é o seu sobrenome? ')\n",
        "  nome_inteiro = primeiro_nome + '  ' + sobrenome\n",
        "  print(f'Seu nome completo é {nome_inteiro}')"
      ],
      "execution_count": null,
      "outputs": []
    },
    {
      "cell_type": "code",
      "metadata": {
        "id": "-XY1tEgCVPiP",
        "outputId": "f0f78873-f4ce-4642-bd87-8f9db79ccb8a",
        "colab": {
          "base_uri": "https://localhost:8080/"
        }
      },
      "source": [
        "nome_completo()"
      ],
      "execution_count": null,
      "outputs": [
        {
          "output_type": "stream",
          "text": [
            "Qual seu primeiro nome? Rafael Bartolomeu\n",
            "Qual é o seu sobre nome? Reis\n",
            "Rafael Bartolomeu  Reis\n"
          ],
          "name": "stdout"
        }
      ]
    },
    {
      "cell_type": "code",
      "metadata": {
        "id": "fEe-cX9ZVR3I",
        "outputId": "d005656c-a95f-411f-9c35-a778e2b519c3",
        "colab": {
          "base_uri": "https://localhost:8080/"
        }
      },
      "source": [
        "nome_completo()"
      ],
      "execution_count": null,
      "outputs": [
        {
          "output_type": "stream",
          "text": [
            "Qual seu primeiro nome? Rafael Bartolomeu\n",
            "Qual é o seu sobrenome? Reis\n",
            "Rafael Bartolomeu  Reis\n"
          ],
          "name": "stdout"
        }
      ]
    },
    {
      "cell_type": "code",
      "metadata": {
        "id": "3V9Mw9TvVeSf",
        "outputId": "227b8501-f995-4fc0-ea91-781157c4489a",
        "colab": {
          "base_uri": "https://localhost:8080/"
        }
      },
      "source": [
        "nome_completo()"
      ],
      "execution_count": null,
      "outputs": [
        {
          "output_type": "stream",
          "text": [
            "Qual seu primeiro nome? Rafael Bartolomeu \n",
            "Qual é o seu sobrenome? Reis\n",
            "Seu nome completo é Rafael Bartolomeu   Reis\n"
          ],
          "name": "stdout"
        }
      ]
    },
    {
      "cell_type": "markdown",
      "metadata": {
        "id": "h_u0tWZ1ROLY"
      },
      "source": [
        "# Parâmetros"
      ]
    },
    {
      "cell_type": "code",
      "metadata": {
        "id": "_4fcTYv_VvTH"
      },
      "source": [
        "nome = 'Rangel'"
      ],
      "execution_count": null,
      "outputs": []
    },
    {
      "cell_type": "code",
      "metadata": {
        "id": "j0csuSOOQdVL"
      },
      "source": [
        "def saudacao_com_parametro(nome_da_pessoa):\n",
        "  print(f'Olá {nome_da_pessoa}')\n",
        "\n",
        "  "
      ],
      "execution_count": null,
      "outputs": []
    },
    {
      "cell_type": "code",
      "metadata": {
        "id": "TdLQjk4AQzrm",
        "outputId": "260a52ad-e77a-49b6-de12-e0934c0578dc",
        "colab": {
          "base_uri": "https://localhost:8080/"
        }
      },
      "source": [
        "saudacao_com_parametro(nome)\n"
      ],
      "execution_count": null,
      "outputs": [
        {
          "output_type": "stream",
          "text": [
            "Olá Aline\n"
          ],
          "name": "stdout"
        }
      ]
    },
    {
      "cell_type": "code",
      "metadata": {
        "id": "-kPbAS3CQ8Od",
        "outputId": "ce8904dd-59dd-4183-d2e2-c4401e89c8e5",
        "colab": {
          "base_uri": "https://localhost:8080/"
        }
      },
      "source": [
        "saudacao_com_parametro(nome)"
      ],
      "execution_count": null,
      "outputs": [
        {
          "output_type": "stream",
          "text": [
            "Olá Rangel\n"
          ],
          "name": "stdout"
        }
      ]
    },
    {
      "cell_type": "markdown",
      "metadata": {
        "id": "xKmlefl2Rxdt"
      },
      "source": [
        "# Condicional"
      ]
    },
    {
      "cell_type": "code",
      "metadata": {
        "id": "rNp_utR_RDhB",
        "outputId": "f3751039-93b4-487e-b9bd-ca3a8e5a9e5c",
        "colab": {
          "base_uri": "https://localhost:8080/"
        }
      },
      "source": [
        "idade = 30\n",
        "\n",
        "def verifica_se_pode_dirigir(idade):\n",
        "  if idade >= 18 : \n",
        "    print('Tem permissão para dirigir')\n",
        "  else:\n",
        "    print('Não tem permissão para dirigir')\n",
        "\n",
        "verifica_se_pode_dirigir(idade)"
      ],
      "execution_count": null,
      "outputs": [
        {
          "output_type": "stream",
          "text": [
            "Tem permissão para dirigir\n"
          ],
          "name": "stdout"
        }
      ]
    },
    {
      "cell_type": "markdown",
      "metadata": {
        "id": "WVpFh7XDYJer"
      },
      "source": [
        "# Convertendo para tipo inteiro\n"
      ]
    },
    {
      "cell_type": "code",
      "metadata": {
        "id": "Ql71Tp1UT3fy",
        "outputId": "506fe410-be2f-430f-b549-0d9c7b3648ec",
        "colab": {
          "base_uri": "https://localhost:8080/"
        }
      },
      "source": [
        "\n",
        "\n",
        "def verifica_se_pode_dirigir_sem_parametros():\n",
        "  idade = input('Qual a sua idade? ')\n",
        "  idade = int(idade)\n",
        "  if idade >= 18 :\n",
        "    print('Tem permissão para DIRIGIR.')\n",
        "  else:\n",
        "    print('NÃO tem permissão para DIRIGIR.')\n",
        "\n",
        "verifica_se_pode_dirigir_sem_parametros()"
      ],
      "execution_count": null,
      "outputs": [
        {
          "output_type": "stream",
          "text": [
            "Qual a sua idade? 36\n",
            "Tem permissão para DIRIGIR.\n"
          ],
          "name": "stdout"
        }
      ]
    },
    {
      "cell_type": "code",
      "metadata": {
        "id": "kB5iDkXK81MT",
        "outputId": "ff511867-784d-4739-dcf6-f2827e815282",
        "colab": {
          "base_uri": "https://localhost:8080/"
        }
      },
      "source": [
        "def velocidade(espaco, tempo):\n",
        "  v = espaco / tempo\n",
        "  print(f'Velocidade: {v} m/s')\n",
        "\n",
        "velocidade(100,20)\n"
      ],
      "execution_count": null,
      "outputs": [
        {
          "output_type": "stream",
          "text": [
            "Velocidade: 5.0 m/s\n"
          ],
          "name": "stdout"
        }
      ]
    },
    {
      "cell_type": "code",
      "metadata": {
        "id": "s42V4Zd-EqJa",
        "outputId": "b885c768-8999-4cff-ca94-ea7f26238342",
        "colab": {
          "base_uri": "https://localhost:8080/"
        }
      },
      "source": [
        "def habilitacao():\n",
        "  idade = input('Qual é a sua idade? ')\n",
        "  idade = int(idade)\n",
        "  if idade >= 18:\n",
        "    print('PODE tirar sua habilitação!')\n",
        "  else:\n",
        "    tempo = 18 - idade\n",
        "    print(f'Calma.... espere {tempo} ano(s) para tirar a habilitação.')\n",
        "\n",
        "habilitacao()"
      ],
      "execution_count": null,
      "outputs": [
        {
          "output_type": "stream",
          "text": [
            "Qual é a sua idade? 14\n",
            "Calma.... espere 4 ano(s) para tirar a habilitação.\n"
          ],
          "name": "stdout"
        }
      ]
    },
    {
      "cell_type": "code",
      "metadata": {
        "id": "b7v9fJF4Hlnt",
        "outputId": "01be3b24-0788-4bba-bf24-b8766940ace4",
        "colab": {
          "base_uri": "https://localhost:8080/"
        }
      },
      "source": [
        "idade = [32, 33, 36, 65, 66]\n",
        "\n",
        "print(idade[-1])\n",
        "print(idade[1:])\n",
        "print(idade[0:3])"
      ],
      "execution_count": null,
      "outputs": [
        {
          "output_type": "stream",
          "text": [
            "66\n",
            "[33, 36, 65, 66]\n",
            "[32, 33, 36]\n"
          ],
          "name": "stdout"
        }
      ]
    },
    {
      "cell_type": "code",
      "metadata": {
        "id": "lYt64hsTWaEW"
      },
      "source": [
        ""
      ],
      "execution_count": null,
      "outputs": []
    },
    {
      "cell_type": "markdown",
      "metadata": {
        "id": "sIVeXLpjaEcO"
      },
      "source": [
        "# LISTA\n"
      ]
    },
    {
      "cell_type": "code",
      "metadata": {
        "id": "fDDXJlSYaG-c",
        "outputId": "26c2c8a0-facb-4d9e-b4c6-dae30517c91c",
        "colab": {
          "base_uri": "https://localhost:8080/"
        }
      },
      "source": [
        "idade = 22\n",
        "idade"
      ],
      "execution_count": null,
      "outputs": [
        {
          "output_type": "execute_result",
          "data": {
            "text/plain": [
              "22"
            ]
          },
          "metadata": {
            "tags": []
          },
          "execution_count": 1
        }
      ]
    },
    {
      "cell_type": "code",
      "metadata": {
        "id": "0MMBl3hdaXrx",
        "outputId": "cfb7c1ad-9395-43ce-f664-4ec922791689",
        "colab": {
          "base_uri": "https://localhost:8080/"
        }
      },
      "source": [
        "type(idade)"
      ],
      "execution_count": null,
      "outputs": [
        {
          "output_type": "execute_result",
          "data": {
            "text/plain": [
              "int"
            ]
          },
          "metadata": {
            "tags": []
          },
          "execution_count": 2
        }
      ]
    },
    {
      "cell_type": "code",
      "metadata": {
        "id": "5wYAPrzBbGgE",
        "outputId": "578004f0-6a56-45dd-869b-f778139cc29d",
        "colab": {
          "base_uri": "https://localhost:8080/",
          "height": 35
        }
      },
      "source": [
        "nome = 'Rafael Reis'\n",
        "nome"
      ],
      "execution_count": null,
      "outputs": [
        {
          "output_type": "execute_result",
          "data": {
            "application/vnd.google.colaboratory.intrinsic+json": {
              "type": "string"
            },
            "text/plain": [
              "'Rafael Reis'"
            ]
          },
          "metadata": {
            "tags": []
          },
          "execution_count": 3
        }
      ]
    },
    {
      "cell_type": "code",
      "metadata": {
        "id": "oE_IUU5WbPjK",
        "outputId": "d877589d-ecf8-4042-8ee8-c06c21629ce4",
        "colab": {
          "base_uri": "https://localhost:8080/"
        }
      },
      "source": [
        "type(nome)"
      ],
      "execution_count": null,
      "outputs": [
        {
          "output_type": "execute_result",
          "data": {
            "text/plain": [
              "str"
            ]
          },
          "metadata": {
            "tags": []
          },
          "execution_count": 4
        }
      ]
    },
    {
      "cell_type": "code",
      "metadata": {
        "id": "jJDXuK4bbSDT",
        "outputId": "5d4c9b34-dd1d-4b67-bb3a-ca26eeda5e1b",
        "colab": {
          "base_uri": "https://localhost:8080/"
        }
      },
      "source": [
        "idades = [36, 17, 32, 15, 67] # lista\n",
        "type(idades)"
      ],
      "execution_count": null,
      "outputs": [
        {
          "output_type": "execute_result",
          "data": {
            "text/plain": [
              "list"
            ]
          },
          "metadata": {
            "tags": []
          },
          "execution_count": 25
        }
      ]
    },
    {
      "cell_type": "code",
      "metadata": {
        "id": "2DJQsRK6bvqK",
        "outputId": "b6875f3d-98a2-456b-aaec-62c37b6476b2",
        "colab": {
          "base_uri": "https://localhost:8080/"
        }
      },
      "source": [
        "idades[2]"
      ],
      "execution_count": null,
      "outputs": [
        {
          "output_type": "execute_result",
          "data": {
            "text/plain": [
              "32"
            ]
          },
          "metadata": {
            "tags": []
          },
          "execution_count": 7
        }
      ]
    },
    {
      "cell_type": "code",
      "metadata": {
        "id": "gEx7G-epbxM6",
        "outputId": "a44120b2-1243-445a-aa8b-f4ee73e5e48b",
        "colab": {
          "base_uri": "https://localhost:8080/"
        }
      },
      "source": [
        "idades = [36, 31, 32, 66, 67]\n",
        "#         0    1   2  3    4\n",
        "#         0   -4  -3  -2   -1\n",
        "idades\n"
      ],
      "execution_count": null,
      "outputs": [
        {
          "output_type": "execute_result",
          "data": {
            "text/plain": [
              "[36, 31, 32, 66, 67]"
            ]
          },
          "metadata": {
            "tags": []
          },
          "execution_count": 9
        }
      ]
    },
    {
      "cell_type": "code",
      "metadata": {
        "id": "AIX6LQEpb9T7",
        "outputId": "60855d4f-9810-43d2-e4bb-58314e67f13f",
        "colab": {
          "base_uri": "https://localhost:8080/"
        }
      },
      "source": [
        "idades[0:2]"
      ],
      "execution_count": null,
      "outputs": [
        {
          "output_type": "execute_result",
          "data": {
            "text/plain": [
              "[36, 31]"
            ]
          },
          "metadata": {
            "tags": []
          },
          "execution_count": 10
        }
      ]
    },
    {
      "cell_type": "code",
      "metadata": {
        "id": "SouVtE5wc7px",
        "outputId": "bf53d017-96d0-4f42-f3fb-528584afd930",
        "colab": {
          "base_uri": "https://localhost:8080/"
        }
      },
      "source": [
        "idades[0:3]"
      ],
      "execution_count": null,
      "outputs": [
        {
          "output_type": "execute_result",
          "data": {
            "text/plain": [
              "[36, 31, 32]"
            ]
          },
          "metadata": {
            "tags": []
          },
          "execution_count": 11
        }
      ]
    },
    {
      "cell_type": "code",
      "metadata": {
        "id": "HVluqw43dJJp",
        "outputId": "f0cdf38e-5b20-4cc1-f4e8-bc51a48a792a",
        "colab": {
          "base_uri": "https://localhost:8080/"
        }
      },
      "source": [
        "idades[1:]"
      ],
      "execution_count": null,
      "outputs": [
        {
          "output_type": "execute_result",
          "data": {
            "text/plain": [
              "[31, 32, 66, 67]"
            ]
          },
          "metadata": {
            "tags": []
          },
          "execution_count": 12
        }
      ]
    },
    {
      "cell_type": "code",
      "metadata": {
        "id": "bxtw08U8dbHx",
        "outputId": "62dd4a12-8ca3-4d2e-a141-8fc45b7830bf",
        "colab": {
          "base_uri": "https://localhost:8080/"
        }
      },
      "source": [
        "idades[0:-1]"
      ],
      "execution_count": null,
      "outputs": [
        {
          "output_type": "execute_result",
          "data": {
            "text/plain": [
              "[36, 31, 32, 66]"
            ]
          },
          "metadata": {
            "tags": []
          },
          "execution_count": 14
        }
      ]
    },
    {
      "cell_type": "code",
      "metadata": {
        "id": "7L9Up1h7dgjQ",
        "outputId": "ab273178-bb17-4117-f4f9-4e7ff7f2a556",
        "colab": {
          "base_uri": "https://localhost:8080/"
        }
      },
      "source": [
        "idades[-1]"
      ],
      "execution_count": null,
      "outputs": [
        {
          "output_type": "execute_result",
          "data": {
            "text/plain": [
              "67"
            ]
          },
          "metadata": {
            "tags": []
          },
          "execution_count": 15
        }
      ]
    },
    {
      "cell_type": "code",
      "metadata": {
        "id": "eWGaUkVSdkdZ",
        "outputId": "199d3888-a703-4fd7-97e9-07eacb1a4146",
        "colab": {
          "base_uri": "https://localhost:8080/"
        }
      },
      "source": [
        "idades[-2]"
      ],
      "execution_count": null,
      "outputs": [
        {
          "output_type": "execute_result",
          "data": {
            "text/plain": [
              "66"
            ]
          },
          "metadata": {
            "tags": []
          },
          "execution_count": 16
        }
      ]
    },
    {
      "cell_type": "markdown",
      "metadata": {
        "id": "4dzdkMhfeU_i"
      },
      "source": [
        "# LACOS E LOOPS"
      ]
    },
    {
      "cell_type": "code",
      "metadata": {
        "id": "VgZoleoGfRT_",
        "outputId": "aca4b95d-3d35-4d39-b1ff-a037de60c722",
        "colab": {
          "base_uri": "https://localhost:8080/"
        }
      },
      "source": [
        "idade2 = 31, 15, 36, 17, 28\n",
        "idade"
      ],
      "execution_count": null,
      "outputs": [
        {
          "output_type": "execute_result",
          "data": {
            "text/plain": [
              "(31, 15, 36, 17, 28)"
            ]
          },
          "metadata": {
            "tags": []
          },
          "execution_count": 23
        }
      ]
    },
    {
      "cell_type": "code",
      "metadata": {
        "id": "VBf1SJdiebMY",
        "outputId": "4647a7da-9822-45a2-b5a1-03a147f33e0e",
        "colab": {
          "base_uri": "https://localhost:8080/"
        }
      },
      "source": [
        "def verificar_se_pode_dirigir(idade):\n",
        "  if idade <= 18:\n",
        "    print()\n",
        "    print(f'{idade} anos de idade, NÂO TEM permissão para dirigir.')\n",
        "  else:\n",
        "    print(f'{idade} anos de idade, TEM permissão para dirifir')\n",
        "  \n",
        "for idade in idades:\n",
        "  verificar_se_pode_dirigir(idade)"
      ],
      "execution_count": null,
      "outputs": [
        {
          "output_type": "stream",
          "text": [
            "36 anos de idade, TEM permissão para dirifir\n",
            "\n",
            "17 anos de idade, NÂO TEM permissão para dirigir.\n",
            "32 anos de idade, TEM permissão para dirifir\n",
            "\n",
            "15 anos de idade, NÂO TEM permissão para dirigir.\n",
            "67 anos de idade, TEM permissão para dirifir\n"
          ],
          "name": "stdout"
        }
      ]
    },
    {
      "cell_type": "code",
      "metadata": {
        "id": "i6zTDPgjgpEY",
        "outputId": "9048d655-b340-4d8d-cfe5-6a74e2602d2c",
        "colab": {
          "base_uri": "https://localhost:8080/"
        }
      },
      "source": [
        "def verificar_se_pode_dirigir(idades):\n",
        "  for idade in idades:\n",
        "    if idade >= 18:\n",
        "      print(f'{idade} anos de idade, NÂO TEM permissão para dirigir.')\n",
        "    else:\n",
        "      print(f'{idade} anos de idade, TEM permissão para dirifir')\n",
        "\n",
        "verificar_se_pode_dirigir(idades)"
      ],
      "execution_count": null,
      "outputs": [
        {
          "output_type": "stream",
          "text": [
            "36 anos de idade, NÂO TEM permissão para dirigir.\n",
            "17 anos de idade, TEM permissão para dirifir\n",
            "32 anos de idade, NÂO TEM permissão para dirigir.\n",
            "15 anos de idade, TEM permissão para dirifir\n",
            "67 anos de idade, NÂO TEM permissão para dirigir.\n"
          ],
          "name": "stdout"
        }
      ]
    },
    {
      "cell_type": "markdown",
      "metadata": {
        "id": "foWUTj17XenH"
      },
      "source": [
        "# BOLEANO"
      ]
    },
    {
      "cell_type": "code",
      "metadata": {
        "id": "g4qcWAAZX5bH"
      },
      "source": [
        "permissoes = []\n",
        "idades = [20, 16, 40]\n",
        "\n",
        "def verificar_se_pode_dirigir(idades, permissoes):\n",
        "  for idade in idades:\n",
        "    if idade >= 18:\n",
        "      permissoes.append(True)\n",
        "    else:\n",
        "      permissoes.append(False)\n",
        "\n",
        "verificar_se_pode_dirigir(idades, permissoes)\n",
        "\n"
      ],
      "execution_count": null,
      "outputs": []
    },
    {
      "cell_type": "code",
      "metadata": {
        "id": "dDekrve3cECM",
        "outputId": "3aeefa07-31fb-4157-c7b2-47858c9b86d8",
        "colab": {
          "base_uri": "https://localhost:8080/"
        }
      },
      "source": [
        "permissoes"
      ],
      "execution_count": null,
      "outputs": [
        {
          "output_type": "execute_result",
          "data": {
            "text/plain": [
              "[True, False, True]"
            ]
          },
          "metadata": {
            "tags": []
          },
          "execution_count": 37
        }
      ]
    },
    {
      "cell_type": "code",
      "metadata": {
        "id": "08R7iFMwcYs1",
        "outputId": "5106a4cc-4d64-40f2-9381-132569d5dea2",
        "colab": {
          "base_uri": "https://localhost:8080/"
        }
      },
      "source": [
        "for permissao in permissoes:\n",
        "  if permissao == True:\n",
        "    print('Tem permissao para dirigir')\n",
        "  else:\n",
        "    print('Não tem permissao para dirigir.')\n"
      ],
      "execution_count": null,
      "outputs": [
        {
          "output_type": "stream",
          "text": [
            "Tem permissao para dirigir\n",
            "Não tem permissao para dirigir.\n",
            "Tem permissao para dirigir\n"
          ],
          "name": "stdout"
        }
      ]
    },
    {
      "cell_type": "code",
      "metadata": {
        "id": "DV4pFJzOduzb"
      },
      "source": [
        "  "
      ],
      "execution_count": null,
      "outputs": []
    }
  ]
}